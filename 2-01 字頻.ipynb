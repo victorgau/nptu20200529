{
  "nbformat": 4,
  "nbformat_minor": 0,
  "metadata": {
    "colab": {
      "name": "字頻.ipynb",
      "provenance": []
    },
    "kernelspec": {
      "name": "python3",
      "display_name": "Python 3"
    }
  },
  "cells": [
    {
      "cell_type": "code",
      "metadata": {
        "id": "9AzcW2XQ52eF",
        "colab_type": "code",
        "colab": {}
      },
      "source": [
        "import requests\n",
        "from bs4 import BeautifulSoup"
      ],
      "execution_count": 0,
      "outputs": []
    },
    {
      "cell_type": "code",
      "metadata": {
        "id": "sDykOF7d7_lr",
        "colab_type": "code",
        "outputId": "fd756b68-191d-4b28-a095-7b3ce669878d",
        "colab": {
          "base_uri": "https://localhost:8080/",
          "height": 70
        }
      },
      "source": [
        "import nltk\n",
        "nltk.download('punkt')"
      ],
      "execution_count": 2,
      "outputs": [
        {
          "output_type": "stream",
          "text": [
            "[nltk_data] Downloading package punkt to /root/nltk_data...\n",
            "[nltk_data]   Package punkt is already up-to-date!\n"
          ],
          "name": "stdout"
        },
        {
          "output_type": "execute_result",
          "data": {
            "text/plain": [
              "True"
            ]
          },
          "metadata": {
            "tags": []
          },
          "execution_count": 2
        }
      ]
    },
    {
      "cell_type": "code",
      "metadata": {
        "id": "rY1f8buL55ub",
        "colab_type": "code",
        "colab": {}
      },
      "source": [
        "url = \"https://www.voanews.com/usa/nation-turmoil-george-floyd-protests/us-protesters-urge-police-reforms-welcome-charges-against\""
      ],
      "execution_count": 0,
      "outputs": []
    },
    {
      "cell_type": "code",
      "metadata": {
        "id": "90tGW5He6PAG",
        "colab_type": "code",
        "colab": {}
      },
      "source": [
        "r = requests.get(url)"
      ],
      "execution_count": 0,
      "outputs": []
    },
    {
      "cell_type": "code",
      "metadata": {
        "id": "PkEdYCc06Q2n",
        "colab_type": "code",
        "colab": {}
      },
      "source": [
        "soup = BeautifulSoup(r.text)"
      ],
      "execution_count": 0,
      "outputs": []
    },
    {
      "cell_type": "code",
      "metadata": {
        "id": "X2eGsWgB6VIX",
        "colab_type": "code",
        "colab": {}
      },
      "source": [
        "h1 = soup.select('h1')[0].text"
      ],
      "execution_count": 0,
      "outputs": []
    },
    {
      "cell_type": "code",
      "metadata": {
        "id": "Jsqlqg5a60sC",
        "colab_type": "code",
        "colab": {}
      },
      "source": [
        "ps = soup.select('div.article__body p')"
      ],
      "execution_count": 0,
      "outputs": []
    },
    {
      "cell_type": "code",
      "metadata": {
        "id": "zAatKzFh7Mrh",
        "colab_type": "code",
        "outputId": "1ce72d32-a9f7-4401-ae3f-f810075bcb0a",
        "colab": {
          "base_uri": "https://localhost:8080/",
          "height": 54
        }
      },
      "source": [
        "soup.select('div.article__body')[0].get_text()"
      ],
      "execution_count": 8,
      "outputs": [
        {
          "output_type": "execute_result",
          "data": {
            "text/plain": [
              "'\\nProtesters welcomed the move by prosecutors in the state of Minnesota to charge three additional officers in connection with the death in police custody of George Floyd, while continuing demonstrations against police misconduct and calling for systemic reforms.\\nThe protests Wednesday night in numerous cities were once again largely peaceful.\\nIn Washington, several thousand people protested outside the White House and the Capitol, and marched down Pennsylvania Avenue as National Guard troops, police and personnel from several federal agencies stood guard.\\nWashington Mayor Muriel Bowser relaxed the city’s curfew, starting it at 11 p.m. rather than 7 p.m., after several calmer nights.\\nDetroit’s police chief said officers there would not impede anyone peacefully marching after the nighttime curfew there went into effect, while the Seattle Mayor Jenny Durkan canceled her curfew order that was supposed to last through Saturday.\\nSan Francisco Mayor London Breed and Los Angeles Mayor Eric Garcetti said they planned to end their curfews Thursday.\\nGarcetti responded to protester demands to cut his police department’s budget, announcing Wednesday he would redirect $150 million from that department and $100 million from others to projects focusing on health and education for the black community.\\n\\n\\n \\n\\n\\nA protester and a police officer stare at one another on the Crescent City Connection bridge, which spans the Mississippi River in New Orleans, June 3, 2020, during a protest over the May 25 death of George Floyd.He also announced planned police reforms, including requiring officers to intervene if they see another officer inappropriately using force, boosting mental health intervention training, having all officers complete training in deescalation and crowd control, and strengthening relationships between the police and the community.\\nThe nationwide protests began in Minneapolis, where Floyd, a 46-year-old African American man, died May 25 after a white police officer held him face down on the street and pressed a knee against his neck for several minutes.\\nMinnesota Attorney General Keith Ellison announced Wednesday second-degree murder charges against Derek Chauvin, the officer who held Floyd. \\xa0Chauvin was charged with third-degree murder and second-degree manslaughter after his arrest last week.\\nEllison also announced charges of aiding and abetting second-degree murder against the other three officers at the scene: J.A. Keung, Thomas Lane and Tou Thao. \\xa0All four officers are in custody and have been fired from the police department.\\n“I strongly believe that these developments are in the interest of justice for Mr. Floyd, his family, our community and our state,” Ellison said. “We’re working together on this case with only one goal: justice for George Floyd.”\\nA Floyd family attorney said the additional charges are “a bittersweet moment.”\\nCongressman Justin Amash and Congresswoman Ayanna Pressley announced Wednesday they are co-leading a bill to end qualified immunity, a move that would make it easier for victims of civil rights abuses to sue officers in civil court.\\n“Qualified immunity shields police from accountability, impedes true justice, and undermines the constitutional rights of every person in this country,” Pressley said.\\n\\n\\n \\n\\n\\nA man walks on a sidewalk lined with shuttered shops June 3, 2020, in downtown Los Angeles, as protests continue over the death of George Floyd on May 25 in Minneapolis.In one of the few reports of clashes Wednesday night, police in New Orleans used tear gas to disperse hundreds of protesters. \\xa0Police officials said the demonstrators defied orders not to cross a bridge.\\nIn New York, police dressed in riot gear confronted a group of protesters who were peacefully demonstrating but after the city’s curfew had gone into effect.\\xa0\\n\\n'"
            ]
          },
          "metadata": {
            "tags": []
          },
          "execution_count": 8
        }
      ]
    },
    {
      "cell_type": "code",
      "metadata": {
        "id": "N0LjcSnG7E28",
        "colab_type": "code",
        "outputId": "0487d889-ffb1-423d-8c7e-7dd5b64e273c",
        "colab": {
          "base_uri": "https://localhost:8080/",
          "height": 336
        }
      },
      "source": [
        "for p in ps:\n",
        "  print(p.text)"
      ],
      "execution_count": 9,
      "outputs": [
        {
          "output_type": "stream",
          "text": [
            "Protesters welcomed the move by prosecutors in the state of Minnesota to charge three additional officers in connection with the death in police custody of George Floyd, while continuing demonstrations against police misconduct and calling for systemic reforms.\n",
            "The protests Wednesday night in numerous cities were once again largely peaceful.\n",
            "In Washington, several thousand people protested outside the White House and the Capitol, and marched down Pennsylvania Avenue as National Guard troops, police and personnel from several federal agencies stood guard.\n",
            "Washington Mayor Muriel Bowser relaxed the city’s curfew, starting it at 11 p.m. rather than 7 p.m., after several calmer nights.\n",
            "Detroit’s police chief said officers there would not impede anyone peacefully marching after the nighttime curfew there went into effect, while the Seattle Mayor Jenny Durkan canceled her curfew order that was supposed to last through Saturday.\n",
            "San Francisco Mayor London Breed and Los Angeles Mayor Eric Garcetti said they planned to end their curfews Thursday.\n",
            "Garcetti responded to protester demands to cut his police department’s budget, announcing Wednesday he would redirect $150 million from that department and $100 million from others to projects focusing on health and education for the black community.\n",
            "He also announced planned police reforms, including requiring officers to intervene if they see another officer inappropriately using force, boosting mental health intervention training, having all officers complete training in deescalation and crowd control, and strengthening relationships between the police and the community.\n",
            "The nationwide protests began in Minneapolis, where Floyd, a 46-year-old African American man, died May 25 after a white police officer held him face down on the street and pressed a knee against his neck for several minutes.\n",
            "Minnesota Attorney General Keith Ellison announced Wednesday second-degree murder charges against Derek Chauvin, the officer who held Floyd.  Chauvin was charged with third-degree murder and second-degree manslaughter after his arrest last week.\n",
            "Ellison also announced charges of aiding and abetting second-degree murder against the other three officers at the scene: J.A. Keung, Thomas Lane and Tou Thao.  All four officers are in custody and have been fired from the police department.\n",
            "“I strongly believe that these developments are in the interest of justice for Mr. Floyd, his family, our community and our state,” Ellison said. “We’re working together on this case with only one goal: justice for George Floyd.”\n",
            "A Floyd family attorney said the additional charges are “a bittersweet moment.”\n",
            "Congressman Justin Amash and Congresswoman Ayanna Pressley announced Wednesday they are co-leading a bill to end qualified immunity, a move that would make it easier for victims of civil rights abuses to sue officers in civil court.\n",
            "“Qualified immunity shields police from accountability, impedes true justice, and undermines the constitutional rights of every person in this country,” Pressley said.\n",
            "In one of the few reports of clashes Wednesday night, police in New Orleans used tear gas to disperse hundreds of protesters.  Police officials said the demonstrators defied orders not to cross a bridge.\n",
            "In New York, police dressed in riot gear confronted a group of protesters who were peacefully demonstrating but after the city’s curfew had gone into effect. \n"
          ],
          "name": "stdout"
        }
      ]
    },
    {
      "cell_type": "code",
      "metadata": {
        "id": "n_CnKGPM7mnB",
        "colab_type": "code",
        "colab": {}
      },
      "source": [
        "text = \"\"\n",
        "for p in ps:\n",
        "  text += p.text + \" \""
      ],
      "execution_count": 0,
      "outputs": []
    },
    {
      "cell_type": "code",
      "metadata": {
        "id": "HCe1RpZE7wYq",
        "colab_type": "code",
        "outputId": "30396d1b-9ae0-48b7-f205-198eb5b4e09f",
        "colab": {
          "base_uri": "https://localhost:8080/",
          "height": 369
        }
      },
      "source": [
        "from nltk.tokenize import word_tokenize\n",
        "\n",
        "words = [word for word in word_tokenize(text)]\n",
        "\n",
        "vocabulary = list(set(words))\n",
        "\n",
        "vocabulary.sort()\n",
        "\n",
        "vocabulary[:20]"
      ],
      "execution_count": 17,
      "outputs": [
        {
          "output_type": "execute_result",
          "data": {
            "text/plain": [
              "['$',\n",
              " ',',\n",
              " '.',\n",
              " '100',\n",
              " '11',\n",
              " '150',\n",
              " '25',\n",
              " '46-year-old',\n",
              " '7',\n",
              " ':',\n",
              " 'A',\n",
              " 'African',\n",
              " 'All',\n",
              " 'Amash',\n",
              " 'American',\n",
              " 'Angeles',\n",
              " 'Attorney',\n",
              " 'Avenue',\n",
              " 'Ayanna',\n",
              " 'Bowser']"
            ]
          },
          "metadata": {
            "tags": []
          },
          "execution_count": 17
        }
      ]
    },
    {
      "cell_type": "code",
      "metadata": {
        "id": "zUk0cgcB7-WW",
        "colab_type": "code",
        "colab": {
          "base_uri": "https://localhost:8080/",
          "height": 352
        },
        "outputId": "c52ccd20-8567-473e-936e-1ac705af0177"
      },
      "source": [
        "# 計算單字出現頻率, 也可以用 pandas.series.value_counts \n",
        "import nltk\n",
        "freq = nltk.FreqDist(words)\n",
        "\n",
        "# 繪製圖形\n",
        "freq.plot()"
      ],
      "execution_count": 18,
      "outputs": [
        {
          "output_type": "display_data",
          "data": {
            "image/png": "[encoded data removed]",
            "text/plain": [
              "<Figure size 432x288 with 1 Axes>"
            ]
          },
          "metadata": {
            "tags": [],
            "needs_background": "light"
          }
        }
      ]
    },
    {
      "cell_type": "code",
      "metadata": {
        "id": "z_QNWpiu8scj",
        "colab_type": "code",
        "colab": {}
      },
      "source": [
        "import pandas as pd"
      ],
      "execution_count": 0,
      "outputs": []
    },
    {
      "cell_type": "code",
      "metadata": {
        "id": "rWfujqj1jC-W",
        "colab_type": "code",
        "colab": {}
      },
      "source": [
        "s = pd.Series(words).value_counts()"
      ],
      "execution_count": 0,
      "outputs": []
    },
    {
      "cell_type": "code",
      "metadata": {
        "id": "jOBSfQDljKAx",
        "colab_type": "code",
        "colab": {
          "base_uri": "https://localhost:8080/",
          "height": 310
        },
        "outputId": "cb010122-67a1-48ad-a37e-70bd590b4b0b"
      },
      "source": [
        "s[:10].plot(kind='bar')"
      ],
      "execution_count": 23,
      "outputs": [
        {
          "output_type": "execute_result",
          "data": {
            "text/plain": [
              "<matplotlib.axes._subplots.AxesSubplot at 0x7f6b713c1dd8>"
            ]
          },
          "metadata": {
            "tags": []
          },
          "execution_count": 23
        },
        {
          "output_type": "display_data",
          "data": {
            "image/png": "[encoded data removed]",
            "text/plain": [
              "<Figure size 432x288 with 1 Axes>"
            ]
          },
          "metadata": {
            "tags": [],
            "needs_background": "light"
          }
        }
      ]
    }
  ]
}