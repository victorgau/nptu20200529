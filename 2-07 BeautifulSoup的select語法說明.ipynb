{
 "cells": [
  {
   "cell_type": "markdown",
   "metadata": {},
   "source": [
    "<a href=\"https://colab.research.google.com/github/victorgau/python_crawler/blob/master/1-4%20BeautifulSoup%E7%9A%84select%E8%AA%9E%E6%B3%95%E8%AA%AA%E6%98%8E.ipynb\" target=\"_parent\"><img src=\"https://colab.research.google.com/assets/colab-badge.svg\" alt=\"Open In Colab\"/></a>"
   ]
  },
  {
   "cell_type": "markdown",
   "metadata": {},
   "source": [
    "# BeautifulSoup的select語法說明"
   ]
  },
  {
   "cell_type": "markdown",
   "metadata": {},
   "source": [
    "參考資料：\n",
    "\n",
    "* https://www.crummy.com/software/BeautifulSoup/bs4/doc/"
   ]
  },
  {
   "cell_type": "code",
   "execution_count": null,
   "metadata": {},
   "outputs": [],
   "source": [
    "from bs4 import BeautifulSoup"
   ]
  },
  {
   "cell_type": "code",
   "execution_count": null,
   "metadata": {},
   "outputs": [],
   "source": [
    "s1 = \"\"\"\n",
    "<body>\n",
    "\n",
    "<h1>哈囉！HTML！</h1>\n",
    "\n",
    "<div class=\"class1\">\n",
    "    <p>這是第一個p標籤內容！</p>\n",
    "    <p>這是第二個p標籤內容！</p>\n",
    "</div>\n",
    "\n",
    "<div class=\"class2\">\n",
    "    <p>這是第三個p標籤內容！</p>\n",
    "    <p>這是第四個p標籤內容！</p>\n",
    "</div>\n",
    "</body>\n",
    "\"\"\""
   ]
  },
  {
   "cell_type": "code",
   "execution_count": null,
   "metadata": {},
   "outputs": [],
   "source": [
    "soup1 = BeautifulSoup(s1)"
   ]
  },
  {
   "cell_type": "code",
   "execution_count": null,
   "metadata": {},
   "outputs": [],
   "source": [
    "soup1.select('div.class1 p')"
   ]
  },
  {
   "cell_type": "markdown",
   "metadata": {},
   "source": [
    "---"
   ]
  },
  {
   "cell_type": "code",
   "execution_count": null,
   "metadata": {},
   "outputs": [],
   "source": [
    "s2 = \"\"\"\n",
    "<body>\n",
    "\n",
    "<h1>哈囉！HTML！</h1>\n",
    "\n",
    "<div class=\"class1\">\n",
    "    <p>這是第一個p標籤內容！</p>\n",
    "    <div>\n",
    "        <p>這是第二個p標籤內容！</p>\n",
    "    </div>\n",
    "</div>\n",
    "\n",
    "<div class=\"class2\">\n",
    "    <p>這是第三個p標籤內容！</p>\n",
    "    <p>這是第四個p標籤內容！</p>\n",
    "</div>\n",
    "</body>\n",
    "\"\"\""
   ]
  },
  {
   "cell_type": "code",
   "execution_count": null,
   "metadata": {},
   "outputs": [],
   "source": [
    "soup2 = BeautifulSoup(s2)"
   ]
  },
  {
   "cell_type": "code",
   "execution_count": null,
   "metadata": {},
   "outputs": [],
   "source": [
    "soup2.select(\"div.class1 p\")"
   ]
  },
  {
   "cell_type": "code",
   "execution_count": null,
   "metadata": {},
   "outputs": [],
   "source": [
    "soup2.select(\"div.class1 > p\")"
   ]
  },
  {
   "cell_type": "code",
   "execution_count": null,
   "metadata": {},
   "outputs": [],
   "source": [
    "soup2.select(\"div.class1 div p\")"
   ]
  },
  {
   "cell_type": "markdown",
   "metadata": {},
   "source": [
    "---"
   ]
  },
  {
   "cell_type": "code",
   "execution_count": null,
   "metadata": {},
   "outputs": [],
   "source": [
    "s3 = \"\"\"\n",
    "<body>\n",
    "\n",
    "<h1>哈囉！HTML！</h1>\n",
    "\n",
    "<div class=\"class1\">\n",
    "    <p>這是第一個p標籤內容！</p>\n",
    "    <div>\n",
    "        <p data-no=\"two\">這是第二個p標籤內容！</p>\n",
    "    </div>\n",
    "</div>\n",
    "\n",
    "<p class=\"class1\">這是第三個p標籤內容！</p>\n",
    "<p id=\"p4\">這是第四個p標籤內容！</p>\n",
    "</body>\n",
    "\"\"\""
   ]
  },
  {
   "cell_type": "code",
   "execution_count": null,
   "metadata": {},
   "outputs": [],
   "source": [
    "soup3 = BeautifulSoup(s3)"
   ]
  },
  {
   "cell_type": "code",
   "execution_count": null,
   "metadata": {},
   "outputs": [],
   "source": [
    "soup3.select(\".class1\")"
   ]
  },
  {
   "cell_type": "code",
   "execution_count": null,
   "metadata": {},
   "outputs": [],
   "source": [
    "soup3.select(\"#p4\")"
   ]
  },
  {
   "cell_type": "code",
   "execution_count": null,
   "metadata": {},
   "outputs": [],
   "source": [
    "soup3.select('p[data-no=\"two\"]')"
   ]
  }
 ],
 "metadata": {
  "kernelspec": {
   "display_name": "Python 3",
   "language": "python",
   "name": "python3"
  },
  "language_info": {
   "codemirror_mode": {
    "name": "ipython",
    "version": 3
   },
   "file_extension": ".py",
   "mimetype": "text/x-python",
   "name": "python",
   "nbconvert_exporter": "python",
   "pygments_lexer": "ipython3",
   "version": "3.7.1"
  }
 },
 "nbformat": 4,
 "nbformat_minor": 2
}
