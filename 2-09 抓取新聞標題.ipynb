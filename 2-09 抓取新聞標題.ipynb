{
 "cells": [
  {
   "cell_type": "markdown",
   "metadata": {},
   "source": [
    "<a href=\"https://colab.research.google.com/github/victorgau/python_crawler/blob/master/2-2%20%E6%8A%93%E5%8F%96%E6%96%B0%E8%81%9E%E6%A8%99%E9%A1%8C.ipynb\" target=\"_parent\"><img src=\"https://colab.research.google.com/assets/colab-badge.svg\" alt=\"Open In Colab\"/></a>"
   ]
  },
  {
   "cell_type": "markdown",
   "metadata": {},
   "source": [
    "# 抓取新聞標題"
   ]
  },
  {
   "cell_type": "markdown",
   "metadata": {},
   "source": [
    "## 相關連結\n",
    "\n",
    "* [鉅亨台股新聞](https://news.cnyes.com/news/cat/tw_stock_news)\n",
    "* [財經新報](https://finance.technews.tw/)"
   ]
  },
  {
   "cell_type": "markdown",
   "metadata": {},
   "source": [
    "---"
   ]
  },
  {
   "cell_type": "code",
   "execution_count": 1,
   "metadata": {},
   "outputs": [],
   "source": [
    "import requests\n",
    "from bs4 import BeautifulSoup"
   ]
  },
  {
   "cell_type": "code",
   "execution_count": 6,
   "metadata": {},
   "outputs": [],
   "source": [
    "url = \"https://news.cnyes.com/news/cat/tw_stock_news\""
   ]
  },
  {
   "cell_type": "code",
   "execution_count": 7,
   "metadata": {},
   "outputs": [],
   "source": [
    "r = requests.get(url)\n",
    "soup = BeautifulSoup(r.text, 'lxml')"
   ]
  },
  {
   "cell_type": "code",
   "execution_count": 8,
   "metadata": {},
   "outputs": [],
   "source": [
    "news_list = soup.select('div._2bFl.theme-list h3')"
   ]
  },
  {
   "cell_type": "code",
   "execution_count": 10,
   "metadata": {},
   "outputs": [
    {
     "name": "stdout",
     "output_type": "stream",
     "text": [
      "iPhone熱銷助攻 文曄10月營收364.4億元 再寫歷史新高\n",
      "鈺太Q3、前3季獲利創新高 前3季每股賺2.98元 全年可望上看4元\n",
      "5G測試需求暢旺 京元電Q3純益、EPS雙創高 前3季每股賺1.66元\n",
      "台灣去年共40名億萬富豪 平均每位坐擁21億美元資產\n",
      "敬鵬汽車板接單回溫 10月營收15.42億元月增7.48%\n",
      "手遊動能強 傳奇Q3純益季增1.86倍 前3季每股賺3.34元\n",
      "龍巖大賣彰銀股票 官股進場接備戰明年改選\n",
      "緯軟前3季純益3.39億元超越去年全年 EPS 5.11元\n",
      "台股週線連4紅 市值首破35兆元\n",
      "大成攜手日本昭和產業擴大投資 擬再投資20億元\n",
      "〈台灣大法說〉初期5G基地台需逾4000座 估建置成本上看百億元\n",
      "超商雙雄10月營收亮麗 統一超創第三高、全家創次高\n",
      "創見Q4營運將優於Q3 明年也會比今年好\n",
      "〈ITF旅展〉餐券、住宿券超搶手 三大飯店衝出千萬業績\n",
      "樺漢10月營收月減15% 前10月創同期新高年增逾2成\n",
      "CPU再傳缺貨 華碩、宏碁10月營收雙雙下滑月減逾2成\n",
      "AOI設備廠10月營收遇逆風 晶彩科不及千萬元 創42個月新低\n",
      "〈ITF旅展〉限定行程熱銷 雄獅接獲企業包團、家族旅遊大單\n",
      "〈致新法說〉Q4淡季不淡 全年獲利可望大躍進\n",
      "威剛10月營收月增近1成 Q4可望持平Q3\n",
      "台達電10月營收修正 前10月仍創同期高年增15.2%\n",
      "〈台灣大法說〉iPhone 11銷售旺 申辦量年增逾3成\n",
      "客戶拉貨觀望 環球晶10月營收44.21億元 創近21個月低點\n",
      "龍巖決議全數處分彰銀持股 貢獻每股純益8.33元\n",
      "長榮航太與長異擴大合作 持股增至49%\n",
      "〈進出口統計〉台商回流效應 我對美全年出口值續增篤定超越去年\n",
      "中磊Q3純益季增6成 前3季每股賺2.78元\n",
      "華通Q3純益逾14億元創新高 前3季每股賺2元\n",
      "緯創、仁寶10月營收雙創近1年新高 Q4看好聖誕拉貨潮\n",
      "美中傳將逐步撤關稅 經長：下周衝7000億元\n"
     ]
    }
   ],
   "source": [
    "for news in news_list:\n",
    "    print(news.text)"
   ]
  }
 ],
 "metadata": {
  "kernelspec": {
   "display_name": "Python 3",
   "language": "python",
   "name": "python3"
  },
  "language_info": {
   "codemirror_mode": {
    "name": "ipython",
    "version": 3
   },
   "file_extension": ".py",
   "mimetype": "text/x-python",
   "name": "python",
   "nbconvert_exporter": "python",
   "pygments_lexer": "ipython3",
   "version": "3.7.1"
  }
 },
 "nbformat": 4,
 "nbformat_minor": 2
}
